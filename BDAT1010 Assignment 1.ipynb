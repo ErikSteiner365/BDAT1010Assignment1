{
 "cells": [
  {
   "cell_type": "markdown",
   "metadata": {},
   "source": [
    "# BDAT1010 Assignment 1"
   ]
  },
  {
   "cell_type": "markdown",
   "metadata": {},
   "source": [
    "### Task 1"
   ]
  },
  {
   "cell_type": "code",
   "execution_count": 3,
   "metadata": {},
   "outputs": [],
   "source": [
    "import re\n",
    "intro = 'Hello all my phone number is 111 112-3345 my address is erik.steiner@mygeorgian.ca and I was born 1998-05-10'"
   ]
  },
  {
   "cell_type": "markdown",
   "metadata": {},
   "source": [
    "### Question 1"
   ]
  },
  {
   "cell_type": "code",
   "execution_count": 5,
   "metadata": {},
   "outputs": [
    {
     "data": {
      "text/plain": [
       "['1998-05-10']"
      ]
     },
     "execution_count": 5,
     "metadata": {},
     "output_type": "execute_result"
    }
   ],
   "source": [
    "date = re.findall('[\\d]{4}[-|\\s|/]?[\\d]{2}[-|\\s|/]?[\\d]{2}', intro)\n",
    "date"
   ]
  },
  {
   "cell_type": "markdown",
   "metadata": {},
   "source": [
    "### Question 2"
   ]
  },
  {
   "cell_type": "code",
   "execution_count": 6,
   "metadata": {},
   "outputs": [
    {
     "data": {
      "text/plain": [
       "['111 112-3345']"
      ]
     },
     "execution_count": 6,
     "metadata": {},
     "output_type": "execute_result"
    }
   ],
   "source": [
    "phone = re.findall('[+1]?([\\d]{3}[\\s|-]?[\\d]{3}[\\s|-]?[\\d]{4})', intro)\n",
    "phone"
   ]
  },
  {
   "cell_type": "markdown",
   "metadata": {},
   "source": [
    "### Question 3"
   ]
  },
  {
   "cell_type": "code",
   "execution_count": 81,
   "metadata": {},
   "outputs": [
    {
     "data": {
      "text/plain": [
       "['erik.steiner@mygeorgian.ca']"
      ]
     },
     "execution_count": 81,
     "metadata": {},
     "output_type": "execute_result"
    }
   ],
   "source": [
    "email = re.findall('[.\\w]+@[\\w][.\\w]+', intro)\n",
    "email"
   ]
  },
  {
   "cell_type": "markdown",
   "metadata": {},
   "source": [
    "### Question 4"
   ]
  },
  {
   "cell_type": "code",
   "execution_count": 48,
   "metadata": {},
   "outputs": [],
   "source": [
    "class distance:\n",
    "    def calc(self, p1, p2):\n",
    "        import math\n",
    "        d = math.sqrt(((p1[0]-p2[0])**2)+((p1[1]-p2[1])**2))\n",
    "        return d"
   ]
  },
  {
   "cell_type": "code",
   "execution_count": 49,
   "metadata": {},
   "outputs": [
    {
     "data": {
      "text/plain": [
       "2.8284271247461903"
      ]
     },
     "execution_count": 49,
     "metadata": {},
     "output_type": "execute_result"
    }
   ],
   "source": [
    "dis = distance()\n",
    "dis.calc((2, 2), (4, 4))"
   ]
  },
  {
   "cell_type": "markdown",
   "metadata": {},
   "source": [
    "### Question 5"
   ]
  },
  {
   "cell_type": "code",
   "execution_count": 82,
   "metadata": {},
   "outputs": [
    {
     "data": {
      "text/plain": [
       "array([1.00000000e+02, 2.11925090e-02, 4.02464998e-02, 4.93838227e-02,\n",
       "       7.15326933e-02, 8.51202696e-02, 1.24387530e-01, 1.29065027e-01,\n",
       "       1.50042086e-01, 2.36801780e-01, 2.85290962e-01, 3.14096287e-01,\n",
       "       3.38583180e-01, 3.46330408e-01, 3.89507890e-01, 3.94851772e-01,\n",
       "       4.13137452e-01, 4.15673786e-01, 4.28519036e-01, 4.30617669e-01,\n",
       "       4.34080885e-01, 4.54536901e-01, 4.55436391e-01, 4.71328658e-01,\n",
       "       5.10904018e-01, 5.11126460e-01, 5.17569501e-01, 5.26095777e-01,\n",
       "       5.34101250e-01, 5.41953376e-01, 5.42445630e-01, 5.49587339e-01,\n",
       "       5.65586430e-01, 5.96038073e-01, 6.13969885e-01, 6.69421789e-01,\n",
       "       6.88260912e-01, 6.91049292e-01, 7.43173132e-01, 7.52854744e-01,\n",
       "       7.57872962e-01, 7.76973922e-01, 7.96343813e-01, 8.14502558e-01,\n",
       "       8.26384237e-01, 8.31058052e-01, 8.45642412e-01, 8.47179770e-01,\n",
       "       9.70906124e-01, 0.00000000e+00])"
      ]
     },
     "execution_count": 82,
     "metadata": {},
     "output_type": "execute_result"
    }
   ],
   "source": [
    "import numpy as np\n",
    "vector = np.random.random(50)\n",
    "vector = np.sort(vector)\n",
    "vector[0] = 100\n",
    "vector[-1] = 0\n",
    "vector"
   ]
  },
  {
   "cell_type": "markdown",
   "metadata": {},
   "source": [
    "# Task 2"
   ]
  },
  {
   "cell_type": "code",
   "execution_count": null,
   "metadata": {},
   "outputs": [],
   "source": []
  }
 ],
 "metadata": {
  "kernelspec": {
   "display_name": "Python 3",
   "language": "python",
   "name": "python3"
  },
  "language_info": {
   "codemirror_mode": {
    "name": "ipython",
    "version": 3
   },
   "file_extension": ".py",
   "mimetype": "text/x-python",
   "name": "python",
   "nbconvert_exporter": "python",
   "pygments_lexer": "ipython3",
   "version": "3.8.5"
  }
 },
 "nbformat": 4,
 "nbformat_minor": 4
}
